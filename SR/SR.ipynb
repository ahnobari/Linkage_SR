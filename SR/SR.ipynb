{
 "cells": [
  {
   "cell_type": "code",
   "execution_count": 1,
   "id": "beb3e7b1",
   "metadata": {},
   "outputs": [],
   "source": [
    "using ExprOptimization\n",
    "using NPZ\n",
    "using Plots, Parameters, BenchmarkTools\n",
    "using ExprOptimization, Random\n",
    "using LinearAlgebra\n",
    "using Distributed"
   ]
  },
  {
   "cell_type": "markdown",
   "id": "280fe0b9",
   "metadata": {},
   "source": [
    "## Linkage Kinematics\n",
    "Solving the 2D kinematics of linkage problems can be done using basic trignometry under the assumption that all linkages are completely rigid in all directions. This is ofcourse contingent upon the mechanism in question being valid, that is the mechanims must have one degree of freedom (or the same degree of freedom as the number of independant actuators) and not be locking for the given motor position. To solve the kinematics of mechaisms we can first look at the simplified unit of three nodes in the system.\n",
    "\n",
    "<img src=\"https://i.ibb.co/9nmPkT5/linkage-breakdown.png\" alt=\"linkage breakdown\" border=\"0\">\n",
    "\n",
    "Suppose we know the positions of nodes 1 and 2 at the current time t. Given we have defined the mechanim we also know the lengths of the linkages connecting 1 to 3 and 2 to 3. In the way we define linkage mechinasms instead of storing linkage lengths (which does not define a full a unique mechanims) we store the positions of all nodes at time t=0s or the initial positions of the linkages, this means that we store the structure (Adjacency matrix) and initial positions for a given mechanim. From here to get to the linkage lengths we can simply compute the distance between the intial positions of any two connected nodes. Moving forward the following nomaenclature is used:\n",
    "\n",
    "$X_{0,i} = $ Initial Position of Node $i$<br>\n",
    "$X_{i}(t) = $ Position of Node $i$ at time $t$<br>\n",
    "$C_{i,j} = $ The $i,j$ element of the Adjacency matrix. 1 inf $i$ and $j$ are connected and 0 otherwise.<br> \n",
    "$G_{i,j} = \\frac{||X_{0,i}-X_{0,j}||_2}{C_{i,j}}$ Length of linkage connecting Nodes $i$ and $j$ ($\\infty$ if the node are not connected)<br>\n",
    "$R(\\phi) = $ 2D (rotation about $\\underline{\\hat{e_z}}$) rotation matrix of angle phi\n",
    "\n",
    "Now consired the system of three nodes we discussed prior. Here we assume that $X_{1}$ and $X_{2}$ are known at the current time t and we want to find the $X_{3}$ at the given time. To do this we can use the cosine rule to find $\\theta$:\n",
    "\n",
    "<img src=\"https://i.ibb.co/7SmbtWT/linkage-breakdown-cosine.png\" alt=\"linkage-breakdown-cosine\" border=\"0\">\n",
    "\n",
    "We can write:\n",
    "\n",
    "$cos(\\theta) = \\frac{G_{1,3}^2+||X_{1}-X_{2}||^2_2-G_{2,3}^2}{2 G_{1,3}^2 ||X_{1}-X_{2}||^2_2} = \\frac{||X_{0,1}-X_{0,3}||^2_2 + ||X_{1}-X_{2}||^2_2 - ||X_{0,2}-X_{0,3}||^2_2}{2 ||X_{0,1}-X_{0,3}||_2 ||X_{1}-X_{2}||_2}$\n",
    "\n",
    "which means that:\n",
    "\n",
    "$|\\theta| = cos^{-1}(\\frac{||X_{0,1}-X_{0,3}||^2_2 + ||X_{1}-X_{2}||^2_2 - ||X_{0,2}-X_{0,3}||^2_2}{2 ||X_{0,1}-X_{0,3}||_2 ||X_{1}-X_{2}||_2})$\n",
    "\n",
    "However, this only gets us the absolute value of theta as $cos^{-1}$ has a range of $[0,2\\pi]$. so we must also determine which way the angle should be to solve this system.\n",
    "\n",
    "<img src=\"https://i.ibb.co/x5zDC53/linkage-breakdown-cosine-2.png\" alt=\"linkage-breakdown-cosine-2\" border=\"0\">\n",
    "\n",
    "To find the sign of the angle we shall look at the initial positions to see if 3 started above the 1 and 2 or below them. This can be easily determined by:\n",
    "\n",
    "$sign(\\theta) = sign([(X_{0,1}-X_{0,3})\\times(X_{0,1}-X_{0,2})].\\underline{\\hat{e_z}})$\n",
    "\n",
    "So we have the final equation for $\\theta$:\n",
    "\n",
    "$\\theta = sign([(X_{0,1}-X_{0,3})\\times(X_{0,1}-X_{0,2})].\\underline{\\hat{e_z}}) \\times cos^{-1}(\\frac{||X_{0,1}-X_{0,3}||^2_2 + ||X_{1}-X_{2}||^2_2 - ||X_{0,2}-X_{0,3}||^2_2}{2 ||X_{0,1}-X_{0,3}||_2 ||X_{1}-X_{2}||_2})$\n",
    "\n",
    "The final step in finding the position of node 3 is to rotate the unit vector in the direction connecting 1 to 2 by $\\theta$ and move in this rotated direction by the amount eaqual to $G_{1,3}$ from $X_{1}$ to obtain the position of node 3 at time t:\n",
    "\n",
    "$X_{3} = X_{1} + R(\\theta) \\frac{(X_{2}-X_{1})||X_{0,3}-X_{0,1}||_2}{||X_{2}-X_{1}||_2}$\n",
    "\n",
    "or \n",
    "\n",
    "$X_{3} = X_{1} + R(sign([(X_{0,1}-X_{0,3})\\times(X_{0,1}-X_{0,2})].\\underline{\\hat{e_z}}) \\times cos^{-1}(\\frac{||X_{0,1}-X_{0,3}||^2_2 + ||X_{1}-X_{2}||^2_2 - ||X_{0,2}-X_{0,3}||^2_2}{2 ||X_{0,1}-X_{0,3}||_2 ||X_{1}-X_{2}||_2})) \\frac{(X_{2}-X_{1})||X_{0,3}-X_{0,1}||_2}{||X_{2}-X_{1}||_2}$\n",
    "\n",
    "Given this overall equation to solve the kinematics of a mechanims at time $t$ we simply start from the nodes with known positions, which are ground nodes (Always stationary at their initial positions) and the motor node (with known position given the motor/actuator curve) and see which unkown nodes have connections to two known nodes. Using the above equation we can solve for this set of nodes and add them to our list of known nodes and repeat the process with the expanded list of knowns. This means that nodes away from ground nodes and motor have a long chain to the position of the motor and their overall equation grows depending on the number of steps it takes to solve for them. A major issue with this function is that when the mechanism locks the $cos(\\theta)$ value goes above 1 meaning the solution does not exist which means that this function returns an error. This makes it difficult to come up with a loss for symbolic regression when this occurs.\n",
    "\n",
    "Now using this knowledge a dataset of 100 mechanims and their solutions for 200 equal timesteps for a full rotation of the motor are given below:"
   ]
  },
  {
   "cell_type": "code",
   "execution_count": 2,
   "id": "6f22fe6b",
   "metadata": {},
   "outputs": [
    {
     "data": {
      "text/plain": [
       "1908200×2 Array{Float64,2}:\n",
       " 0.306585  0.725864\n",
       " 0.306585  0.725864\n",
       " 0.306585  0.725864\n",
       " 0.306585  0.725864\n",
       " 0.306585  0.725864\n",
       " 0.306585  0.725864\n",
       " 0.306585  0.725864\n",
       " 0.306585  0.725864\n",
       " 0.306585  0.725864\n",
       " 0.306585  0.725864\n",
       " 0.306585  0.725864\n",
       " 0.306585  0.725864\n",
       " 0.306585  0.725864\n",
       " ⋮         \n",
       " 0.576007  0.648505\n",
       " 0.576007  0.648505\n",
       " 0.576007  0.648505\n",
       " 0.576007  0.648505\n",
       " 0.576007  0.648505\n",
       " 0.576007  0.648505\n",
       " 0.576007  0.648505\n",
       " 0.576007  0.648505\n",
       " 0.576007  0.648505\n",
       " 0.576007  0.648505\n",
       " 0.576007  0.648505\n",
       " 0.576007  0.648505"
      ]
     },
     "execution_count": 2,
     "metadata": {},
     "output_type": "execute_result"
    }
   ],
   "source": [
    "x1s = npzread(\"x1s.npy\")\n",
    "x2s = npzread(\"x2s.npy\")\n",
    "x3s = npzread(\"x3s.npy\")\n",
    "x0_1s = npzread(\"x0_1s.npy\")\n",
    "x0_2s = npzread(\"x0_2s.npy\")\n",
    "x0_3s = npzread(\"x0_3s.npy\")"
   ]
  },
  {
   "cell_type": "markdown",
   "id": "550ddb32",
   "metadata": {},
   "source": [
    "To use symbolic regression we first define a few functions that are needed:"
   ]
  },
  {
   "cell_type": "code",
   "execution_count": 3,
   "id": "0580c023",
   "metadata": {},
   "outputs": [
    {
     "data": {
      "text/plain": [
       "cross2D (generic function with 1 method)"
      ]
     },
     "execution_count": 3,
     "metadata": {},
     "output_type": "execute_result"
    }
   ],
   "source": [
    "function norm(x)\n",
    "    sqrt(x*x')[1]\n",
    "end\n",
    "\n",
    "function cross2D(x,y)\n",
    "    x[1,1]*y[1,2] - x[1,2]*y[1,1]\n",
    "end"
   ]
  },
  {
   "cell_type": "code",
   "execution_count": 4,
   "id": "5bc691af",
   "metadata": {},
   "outputs": [
    {
     "data": {
      "text/plain": [
       "Rotate (generic function with 1 method)"
      ]
     },
     "execution_count": 4,
     "metadata": {},
     "output_type": "execute_result"
    }
   ],
   "source": [
    "function R(phi)\n",
    "    [cos(phi) -sin(phi);sin(phi) cos(phi)]\n",
    "end\n",
    "function Rotate(x,phi)\n",
    "    x*R(phi)\n",
    "end"
   ]
  },
  {
   "cell_type": "markdown",
   "id": "f3e3c00e",
   "metadata": {},
   "source": [
    "The functions below are the exact solutions:"
   ]
  },
  {
   "cell_type": "code",
   "execution_count": 5,
   "id": "cdb34042",
   "metadata": {},
   "outputs": [
    {
     "data": {
      "text/plain": [
       "get_cos_theta (generic function with 1 method)"
      ]
     },
     "execution_count": 5,
     "metadata": {},
     "output_type": "execute_result"
    }
   ],
   "source": [
    "function get_pos(x_1::Any, x_2::Any, x0_1::Any, x0_2::Any, x0_3::Any)\n",
    "    (((((x_2)-(x_1))/(norm((x_2)-(x_1))))*(norm((x0_1)-(x0_3))))*(R((sign(cross2D(x0_1-x0_3,x0_1-x0_2)))*(acos(((((norm((x_2)-(x_1)))^(2))+((norm((x0_1)-(x0_3)))^(2)))-((norm((x0_2)-(x0_3)))^(2)))/(((2)*(norm((x_2)-(x_1))))*(norm((x0_1)-(x0_3)))))))))+(x_1)\n",
    "end\n",
    "\n",
    "function get_cos_theta(x_1::Any, x_2::Any, x0_1::Any, x0_2::Any, x0_3::Any)\n",
    "    ((((norm((x_2)-(x_1)))^(2))+((norm((x0_1)-(x0_3)))^(2)))-((norm((x0_2)-(x0_3)))^(2)))/(((2)*(norm((x_2)-(x_1))))*(norm((x0_1)-(x0_3))))\n",
    "end"
   ]
  },
  {
   "cell_type": "markdown",
   "id": "d7f69d17",
   "metadata": {},
   "source": [
    "Now we can define losses for the problem of finding the cosine of the angle and the problem of the overall equation:"
   ]
  },
  {
   "cell_type": "markdown",
   "id": "9b10c137",
   "metadata": {},
   "source": [
    "Now define a grammer:"
   ]
  },
  {
   "cell_type": "code",
   "execution_count": 6,
   "id": "5a1aecb2",
   "metadata": {},
   "outputs": [
    {
     "data": {
      "text/plain": [
       "1: Real = norm(x_1 - x_2)\n",
       "2: Real = norm(x0_1 - x0_3)\n",
       "3: Real = norm(x0_3 - x0_2)\n",
       "4: Real = Real ^ 2\n",
       "5: Real = Real + Real\n",
       "6: Real = Real * Real\n",
       "7: Real = Real / Real\n",
       "8: Real = Real - Real\n",
       "9: Real = 1\n",
       "10: Real = 2\n"
      ]
     },
     "execution_count": 6,
     "metadata": {},
     "output_type": "execute_result"
    }
   ],
   "source": [
    "const grammar = @grammar begin\n",
    "    Real = norm(x_1-x_2) | norm(x0_1-x0_3) | norm(x0_3-x0_2)\n",
    "    Real = Real ^ 2\n",
    "    Real = Real + Real\n",
    "    Real = Real * Real\n",
    "    Real = Real / Real\n",
    "    Real = Real - Real\n",
    "    Real = 1 | 2\n",
    "end"
   ]
  },
  {
   "cell_type": "code",
   "execution_count": 7,
   "id": "86994f8d",
   "metadata": {
    "scrolled": true
   },
   "outputs": [
    {
     "data": {
      "text/plain": [
       "Dict{Symbol,Any} with 7 entries:\n",
       "  :+    => +\n",
       "  :^    => ^\n",
       "  :/    => /\n",
       "  :Real => Real\n",
       "  :norm => norm\n",
       "  :-    => -\n",
       "  :*    => *"
      ]
     },
     "execution_count": 7,
     "metadata": {},
     "output_type": "execute_result"
    }
   ],
   "source": [
    "const S = SymbolTable(grammar)"
   ]
  },
  {
   "cell_type": "markdown",
   "id": "6724ffea",
   "metadata": {},
   "source": [
    "Compute $cos(\\theta)$ values:"
   ]
  },
  {
   "cell_type": "code",
   "execution_count": 8,
   "id": "d00894a3",
   "metadata": {},
   "outputs": [
    {
     "data": {
      "text/plain": [
       "Any[]"
      ]
     },
     "execution_count": 8,
     "metadata": {},
     "output_type": "execute_result"
    }
   ],
   "source": [
    "cosphis = []"
   ]
  },
  {
   "cell_type": "code",
   "execution_count": 9,
   "id": "cc8f07fe",
   "metadata": {},
   "outputs": [],
   "source": [
    "for i = 1:1908200\n",
    "    x_1 = x1s[i,:]'\n",
    "    x_2 = x2s[i,:]'\n",
    "    x_3 = x3s[i,:]'\n",
    "    x0_1 = x0_1s[i,:]'\n",
    "    x0_2 = x0_2s[i,:]'\n",
    "    x0_3 = x0_3s[i,:]'\n",
    "    \n",
    "    push!(cosphis,get_cos_theta(x_1, x_2, x0_1, x0_2, x0_3))\n",
    "end"
   ]
  },
  {
   "cell_type": "code",
   "execution_count": 10,
   "id": "47f0e4dd",
   "metadata": {},
   "outputs": [
    {
     "data": {
      "text/plain": [
       "loss (generic function with 1 method)"
      ]
     },
     "execution_count": 10,
     "metadata": {},
     "output_type": "execute_result"
    }
   ],
   "source": [
    "function loss(tree::RuleNode, grammar::Grammar)\n",
    "    ex = get_executable(tree, grammar)\n",
    "    los = 0.0\n",
    "    for i = 1:2000\n",
    "        x_1 = x1s[i,:]'\n",
    "        x_2 = x2s[i,:]'\n",
    "        x_3 = x3s[i,:]'\n",
    "        x0_1 = x0_1s[i,:]'\n",
    "        x0_2 = x0_2s[i,:]'\n",
    "        x0_3 = x0_3s[i,:]'\n",
    "        S[:x_1] = x_1\n",
    "        S[:x_2] = x_2\n",
    "        S[:x0_1] = x0_1\n",
    "        S[:x0_2] = x0_2\n",
    "        S[:x0_3] = x0_3\n",
    "        cosphi = cosphis[i]\n",
    "        predicted_phi = Core.eval(S,ex)\n",
    "        los += abs2(cosphi-predicted_phi)\n",
    "    end\n",
    "    los\n",
    "end"
   ]
  },
  {
   "cell_type": "markdown",
   "id": "459f657a",
   "metadata": {},
   "source": [
    "Now we can first apply GeneticProgramming to the simplified problem of finding the angle:"
   ]
  },
  {
   "cell_type": "code",
   "execution_count": 11,
   "id": "cb7f1d90",
   "metadata": {},
   "outputs": [
    {
     "name": "stdout",
     "output_type": "stream",
     "text": [
      "search: \u001b[0m\u001b[1mG\u001b[22m\u001b[0m\u001b[1me\u001b[22m\u001b[0m\u001b[1mn\u001b[22m\u001b[0m\u001b[1me\u001b[22m\u001b[0m\u001b[1mt\u001b[22m\u001b[0m\u001b[1mi\u001b[22m\u001b[0m\u001b[1mc\u001b[22m\u001b[0m\u001b[1mP\u001b[22m\u001b[0m\u001b[1mr\u001b[22m\u001b[0m\u001b[1mo\u001b[22m\u001b[0m\u001b[1mg\u001b[22m\u001b[0m\u001b[1mr\u001b[22m\u001b[0m\u001b[1ma\u001b[22m\u001b[0m\u001b[1mm\u001b[22m \u001b[0m\u001b[1mG\u001b[22m\u001b[0m\u001b[1me\u001b[22m\u001b[0m\u001b[1mn\u001b[22m\u001b[0m\u001b[1me\u001b[22m\u001b[0m\u001b[1mt\u001b[22m\u001b[0m\u001b[1mi\u001b[22m\u001b[0m\u001b[1mc\u001b[22m\u001b[0m\u001b[1mP\u001b[22m\u001b[0m\u001b[1mr\u001b[22m\u001b[0m\u001b[1mo\u001b[22m\u001b[0m\u001b[1mg\u001b[22m\u001b[0m\u001b[1mr\u001b[22m\u001b[0m\u001b[1ma\u001b[22m\u001b[0m\u001b[1mm\u001b[22ms\n",
      "\n"
     ]
    },
    {
     "data": {
      "text/latex": [
       "\\begin{verbatim}\n",
       "GeneticProgram\n",
       "\\end{verbatim}\n",
       "Genetic Programming.\n",
       "\n",
       "\\section{Arguments}\n",
       "\\begin{itemize}\n",
       "\\item \\texttt{pop\\_size::Int}: population size\n",
       "\n",
       "\n",
       "\\item \\texttt{iterations::Int}: number of iterations\n",
       "\n",
       "\n",
       "\\item \\texttt{max\\_depth::Int}: maximum depth of derivation tree\n",
       "\n",
       "\n",
       "\\item \\texttt{p\\_reproduction::Float64}: probability of reproduction operator\n",
       "\n",
       "\n",
       "\\item \\texttt{p\\_crossover::Float64}: probability of crossover operator\n",
       "\n",
       "\n",
       "\\item \\texttt{p\\_mutation::Float64}: probability of mutation operator\n",
       "\n",
       "\n",
       "\\item \\texttt{init\\_method::InitializationMethod}: initialization method\n",
       "\n",
       "\n",
       "\\item \\texttt{select\\_method::SelectionMethod}: selection method\n",
       "\n",
       "\n",
       "\\item \\texttt{track\\_method::TrackingMethod}: additional tracking, e.g., track top k exprs (default: no additional tracking) \n",
       "\n",
       "\\end{itemize}\n"
      ],
      "text/markdown": [
       "```\n",
       "GeneticProgram\n",
       "```\n",
       "\n",
       "Genetic Programming.\n",
       "\n",
       "# Arguments\n",
       "\n",
       "  * `pop_size::Int`: population size\n",
       "  * `iterations::Int`: number of iterations\n",
       "  * `max_depth::Int`: maximum depth of derivation tree\n",
       "  * `p_reproduction::Float64`: probability of reproduction operator\n",
       "  * `p_crossover::Float64`: probability of crossover operator\n",
       "  * `p_mutation::Float64`: probability of mutation operator\n",
       "  * `init_method::InitializationMethod`: initialization method\n",
       "  * `select_method::SelectionMethod`: selection method\n",
       "  * `track_method::TrackingMethod`: additional tracking, e.g., track top k exprs (default: no additional tracking)\n"
      ],
      "text/plain": [
       "\u001b[36m  GeneticProgram\u001b[39m\n",
       "\n",
       "  Genetic Programming.\n",
       "\n",
       "\u001b[1m  Arguments\u001b[22m\n",
       "\u001b[1m  ≡≡≡≡≡≡≡≡≡≡≡\u001b[22m\n",
       "\n",
       "    •    \u001b[36mpop_size::Int\u001b[39m: population size\n",
       "\n",
       "    •    \u001b[36miterations::Int\u001b[39m: number of iterations\n",
       "\n",
       "    •    \u001b[36mmax_depth::Int\u001b[39m: maximum depth of derivation tree\n",
       "\n",
       "    •    \u001b[36mp_reproduction::Float64\u001b[39m: probability of reproduction operator\n",
       "\n",
       "    •    \u001b[36mp_crossover::Float64\u001b[39m: probability of crossover operator\n",
       "\n",
       "    •    \u001b[36mp_mutation::Float64\u001b[39m: probability of mutation operator\n",
       "\n",
       "    •    \u001b[36minit_method::InitializationMethod\u001b[39m: initialization method\n",
       "\n",
       "    •    \u001b[36mselect_method::SelectionMethod\u001b[39m: selection method\n",
       "\n",
       "    •    \u001b[36mtrack_method::TrackingMethod\u001b[39m: additional tracking, e.g., track top\n",
       "        k exprs (default: no additional tracking) "
      ]
     },
     "execution_count": 11,
     "metadata": {},
     "output_type": "execute_result"
    }
   ],
   "source": [
    "?GeneticProgram"
   ]
  },
  {
   "cell_type": "code",
   "execution_count": 12,
   "id": "a21cae6a",
   "metadata": {},
   "outputs": [
    {
     "data": {
      "text/plain": [
       "(:((((norm(x0_1 - x0_3) + norm(x_1 - x_2)) - norm(x0_3 - x0_2) ^ 2) - ((norm(x0_3 - x0_2) / (norm(x0_1 - x0_3) + norm(x_1 - x_2))) ^ 2) ^ 2) - norm(x0_1 - x0_3) / (norm(x0_1 - x0_3) + (2 + (norm(x0_1 - x0_3) / norm(x_1 - x_2)) ^ 2))), 26.35254719131084)"
      ]
     },
     "execution_count": 12,
     "metadata": {},
     "output_type": "execute_result"
    }
   ],
   "source": [
    "Random.seed!()\n",
    "p = GeneticProgram(500,100,8,0.3,0.3,0.4)\n",
    "results_ce = optimize(p, grammar, :Real, loss)\n",
    "(results_ce.expr, results_ce.loss)"
   ]
  },
  {
   "cell_type": "markdown",
   "id": "3c78f5da",
   "metadata": {},
   "source": [
    "As we can see this problem is possible to solve using symbolic regression but the overall problem of solving the full equation is rather difficult:"
   ]
  },
  {
   "cell_type": "code",
   "execution_count": 13,
   "id": "39b9dcca",
   "metadata": {},
   "outputs": [
    {
     "data": {
      "text/plain": [
       "1: vec = x_1\n",
       "2: vec = x_2\n",
       "3: vec = x0_1\n",
       "4: vec = x0_2\n",
       "5: vec = x0_3\n",
       "6: vec = Real * vec\n",
       "7: vec = vec / Real\n",
       "8: vec = vec + vec\n",
       "9: vec = vec - vec\n",
       "10: vec = Rotate(vec, Real)\n",
       "11: Real = norm(vec)\n",
       "12: Real = cross2D(vec, vec)\n",
       "13: Real = Real ^ Real\n",
       "14: Real = Real + Real\n",
       "15: Real = Real * Real\n",
       "16: Real = Real / Real\n",
       "17: Real = Real - Real\n",
       "18: Real = acos(Real)\n",
       "19: Real = sign(Real)\n",
       "20: Real = 1\n",
       "21: Real = 2\n"
      ]
     },
     "execution_count": 13,
     "metadata": {},
     "output_type": "execute_result"
    }
   ],
   "source": [
    "const grammar2 = @grammar begin\n",
    "    vec = x_1 | x_2 | x0_1 | x0_2 | x0_3\n",
    "    vec = Real * vec\n",
    "    vec = vec / Real\n",
    "    vec = vec + vec\n",
    "    vec = vec - vec\n",
    "    vec = Rotate(vec,Real)\n",
    "    Real = norm(vec)\n",
    "    Real = cross2D(vec,vec)\n",
    "    Real = Real ^ Real\n",
    "    Real = Real + Real\n",
    "    Real = Real * Real\n",
    "    Real = Real / Real\n",
    "    Real = Real - Real\n",
    "    Real = acos(Real)\n",
    "    Real = sign(Real)\n",
    "#     Real = asin(Real)\n",
    "#     Real = atan(Real)\n",
    "#     Real = sin(Real)\n",
    "#     Real = cos(Real)\n",
    "#     Real = tan(Real)\n",
    "    Real = 1|2\n",
    "end"
   ]
  },
  {
   "cell_type": "code",
   "execution_count": 14,
   "id": "413a0c69",
   "metadata": {
    "scrolled": true
   },
   "outputs": [
    {
     "data": {
      "text/plain": [
       "Dict{Symbol,Any} with 12 entries:\n",
       "  :+       => +\n",
       "  :/       => /\n",
       "  :^       => ^\n",
       "  :*       => *\n",
       "  :vec     => vec\n",
       "  :Rotate  => Rotate\n",
       "  :cross2D => cross2D\n",
       "  :acos    => acos\n",
       "  :sign    => sign\n",
       "  :-       => -\n",
       "  :norm    => norm\n",
       "  :Real    => Real"
      ]
     },
     "execution_count": 14,
     "metadata": {},
     "output_type": "execute_result"
    },
    {
     "name": "stderr",
     "output_type": "stream",
     "text": [
      "WARNING: redefinition of constant S. This may fail, cause incorrect answers, or produce other errors.\n"
     ]
    }
   ],
   "source": [
    "const S = SymbolTable(grammar2)"
   ]
  },
  {
   "cell_type": "code",
   "execution_count": 15,
   "id": "bc0341ef",
   "metadata": {},
   "outputs": [
    {
     "data": {
      "text/plain": [
       "loss (generic function with 1 method)"
      ]
     },
     "execution_count": 15,
     "metadata": {},
     "output_type": "execute_result"
    }
   ],
   "source": [
    "function loss(tree::RuleNode, grammar::Grammar)\n",
    "    ex = get_executable(tree, grammar)\n",
    "    los = 0.0\n",
    "    for i = 1:20000\n",
    "        x_1 = x1s[i,:]'\n",
    "        x_2 = x2s[i,:]'\n",
    "        x_3 = x3s[i,:]'\n",
    "        x0_1 = x0_1s[i,:]'\n",
    "        x0_2 = x0_2s[i,:]'\n",
    "        x0_3 = x0_3s[i,:]'\n",
    "        S[:x_1] = x_1\n",
    "        S[:x_2] = x_2\n",
    "        S[:x0_1] = x0_1\n",
    "        S[:x0_2] = x0_2\n",
    "        S[:x0_3] = x0_3\n",
    "        try\n",
    "            x_3_p = Core.eval(S,ex)\n",
    "            los += norm(x_3_p - x_3)\n",
    "        catch\n",
    "            los += 1e10\n",
    "        end\n",
    "    end\n",
    "    los\n",
    "end"
   ]
  },
  {
   "cell_type": "code",
   "execution_count": 35,
   "id": "bba079a3",
   "metadata": {},
   "outputs": [
    {
     "data": {
      "text/plain": [
       "(:x0_3, 0.0696569861591034)"
      ]
     },
     "execution_count": 35,
     "metadata": {},
     "output_type": "execute_result"
    }
   ],
   "source": [
    "Random.seed!()\n",
    "p = CrossEntropy(100,50,10,50)\n",
    "results_ce = optimize(p, grammar2, :vec, loss)\n",
    "(results_ce.expr, results_ce.loss)"
   ]
  }
 ],
 "metadata": {
  "kernelspec": {
   "display_name": "Julia 1.5.3",
   "language": "julia",
   "name": "julia-1.5"
  },
  "language_info": {
   "file_extension": ".jl",
   "mimetype": "application/julia",
   "name": "julia",
   "version": "1.5.3"
  }
 },
 "nbformat": 4,
 "nbformat_minor": 5
}
